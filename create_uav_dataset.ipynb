{
 "cells": [
  {
   "cell_type": "code",
   "execution_count": 1,
   "metadata": {},
   "outputs": [
    {
     "name": "stderr",
     "output_type": "stream",
     "text": [
      "/home/yasin/anaconda3/lib/python3.9/site-packages/torchvision/io/image.py:13: UserWarning: Failed to load image Python extension: libtorch_cuda_cu.so: cannot open shared object file: No such file or directory\n",
      "  warn(f\"Failed to load image Python extension: {e}\")\n"
     ]
    }
   ],
   "source": [
    "import time\n",
    "import torch\n",
    "from torchvision import transforms as T\n",
    "from tqdm import tqdm\n",
    "from tempo3.data.datasets import video_dataset, video_dataset_h5\n",
    "from tempo3.data.pdfs import pdf_index\n",
    "from tqdm import tqdm\n",
    "\n",
    "import os\n",
    "import h5py\n",
    "from PIL import Image\n",
    "import matplotlib.pyplot as plt"
   ]
  },
  {
   "cell_type": "code",
   "execution_count": 2,
   "metadata": {},
   "outputs": [],
   "source": [
    "# Create folder structure\n",
    "root = \"./datasets/\"\n",
    "uav_root = os.path.join(root, \"UAV123\")\n",
    "uav_h5_root = os.path.join(root, \"uav123\")\n",
    "\n",
    "if \"uav123\" not in os.listdir(root):\n",
    "    os.makedirs(uav_h5_root)"
   ]
  },
  {
   "cell_type": "code",
   "execution_count": 3,
   "metadata": {},
   "outputs": [],
   "source": [
    "frames = h5py.File(os.path.join(uav_h5_root, \"frames.hdf5\"), \"w\")"
   ]
  },
  {
   "cell_type": "code",
   "execution_count": 4,
   "metadata": {},
   "outputs": [
    {
     "name": "stderr",
     "output_type": "stream",
     "text": [
      "/tmp/ipykernel_5593/2658190090.py:1: UserWarning: To copy construct from a tensor, it is recommended to use sourceTensor.clone().detach() or sourceTensor.clone().detach().requires_grad_(True), rather than torch.tensor(sourceTensor).\n",
      "  frame_shape = torch.tensor(T.ToTensor()(Image.open(os.path.join(uav_root, \"bike1\", \"000001.jpg\")))).shape\n"
     ]
    },
    {
     "data": {
      "text/plain": [
       "torch.Size([3, 720, 1280])"
      ]
     },
     "execution_count": 4,
     "metadata": {},
     "output_type": "execute_result"
    }
   ],
   "source": [
    "frame_shape = torch.tensor(T.ToTensor()(Image.open(os.path.join(uav_root, \"bike1\", \"000001.jpg\")))).shape\n",
    "frame_shape"
   ]
  },
  {
   "cell_type": "code",
   "execution_count": 5,
   "metadata": {},
   "outputs": [],
   "source": [
    "for v in os.listdir(uav_root)[:1]:\n",
    "    frames_root = os.path.join(uav_root, v)\n",
    "    num_images = len(os.listdir(frames_root))\n",
    "\n",
    "    frame_paths = [os.path.join(frames_root, f) for f in sorted(os.listdir(frames_root))]\n",
    "    # data = torch.cat([T.ToTensor()(Image.open(f))[None] for f in frame_paths])\n",
    "\n",
    "    dset = frames.create_dataset(v, (num_images, *frame_shape), dtype='f')\n",
    "    \n",
    "    tf = T.ToTensor()\n",
    "    for i, p in enumerate(frame_paths):\n",
    "        dset[i] = tf(Image.open(p))"
   ]
  },
  {
   "cell_type": "code",
   "execution_count": 9,
   "metadata": {},
   "outputs": [
    {
     "data": {
      "text/plain": [
       "<HDF5 dataset \"person18\": shape (1393, 3, 720, 1280), type \"<f4\">"
      ]
     },
     "execution_count": 9,
     "metadata": {},
     "output_type": "execute_result"
    }
   ],
   "source": [
    "frames[\"person18\"]"
   ]
  },
  {
   "cell_type": "code",
   "execution_count": 2,
   "metadata": {},
   "outputs": [],
   "source": [
    "names = sorted(list(os.listdir(\"datasets/ASL-big/frames/\")))\n",
    "images = [Image.open(f\"datasets/ASL-big/frames/{name}\", mode=\"r\")for name in names]"
   ]
  },
  {
   "cell_type": "code",
   "execution_count": 3,
   "metadata": {},
   "outputs": [],
   "source": [
    "transform = T.Compose([\n",
    "    T.Resize(128),\n",
    "    T.ToTensor(),\n",
    "    T.Normalize((0.485, 0.456, 0.406), (0.229, 0.224, 0.225))\n",
    "])"
   ]
  },
  {
   "cell_type": "code",
   "execution_count": 4,
   "metadata": {},
   "outputs": [
    {
     "data": {
      "text/plain": [
       "torch.Size([3757, 3, 128, 128])"
      ]
     },
     "execution_count": 4,
     "metadata": {},
     "output_type": "execute_result"
    }
   ],
   "source": [
    "images_t = [transform(i) for i in images]\n",
    "images_t = torch.stack(images_t)\n",
    "images_t.shape"
   ]
  },
  {
   "cell_type": "code",
   "execution_count": 5,
   "metadata": {},
   "outputs": [],
   "source": [
    "split = int(0.8*len(images_t))\n",
    "images_t_train = images_t[:split]\n",
    "images_t_test = images_t[split:]"
   ]
  },
  {
   "cell_type": "code",
   "execution_count": 6,
   "metadata": {},
   "outputs": [
    {
     "data": {
      "text/plain": [
       "(torch.Size([3005, 3, 128, 128]), torch.Size([752, 3, 128, 128]))"
      ]
     },
     "execution_count": 6,
     "metadata": {},
     "output_type": "execute_result"
    }
   ],
   "source": [
    "images_t_train.shape, images_t_test.shape"
   ]
  },
  {
   "cell_type": "code",
   "execution_count": 7,
   "metadata": {},
   "outputs": [],
   "source": [
    "f_train = h5py.File(\"frames_train.hdf5\", \"w\")\n",
    "f_test = h5py.File(\"frames_test.hdf5\", \"w\")"
   ]
  },
  {
   "cell_type": "code",
   "execution_count": 8,
   "metadata": {},
   "outputs": [],
   "source": [
    "dset_train = f_train.create_dataset(\"frames\", tuple(images_t_train.shape), data=images_t_train, dtype='f')\n",
    "dset_test = f_test.create_dataset(\"frames\", tuple(images_t_test.shape), data=images_t_test, dtype='f')"
   ]
  },
  {
   "cell_type": "code",
   "execution_count": 10,
   "metadata": {},
   "outputs": [
    {
     "data": {
      "text/plain": [
       "((3005, 3, 128, 128), (752, 3, 128, 128))"
      ]
     },
     "execution_count": 10,
     "metadata": {},
     "output_type": "execute_result"
    }
   ],
   "source": [
    "dset_train.shape, dset_test.shape"
   ]
  },
  {
   "cell_type": "code",
   "execution_count": 11,
   "metadata": {},
   "outputs": [
    {
     "data": {
      "text/plain": [
       "(None, None)"
      ]
     },
     "execution_count": 11,
     "metadata": {},
     "output_type": "execute_result"
    }
   ],
   "source": [
    "f_train.close(), f_test.close()"
   ]
  },
  {
   "cell_type": "code",
   "execution_count": null,
   "metadata": {},
   "outputs": [],
   "source": []
  }
 ],
 "metadata": {
  "kernelspec": {
   "display_name": "base",
   "language": "python",
   "name": "python3"
  },
  "language_info": {
   "codemirror_mode": {
    "name": "ipython",
    "version": 3
   },
   "file_extension": ".py",
   "mimetype": "text/x-python",
   "name": "python",
   "nbconvert_exporter": "python",
   "pygments_lexer": "ipython3",
   "version": "3.9.13"
  },
  "orig_nbformat": 4
 },
 "nbformat": 4,
 "nbformat_minor": 2
}
